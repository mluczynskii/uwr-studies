{
 "cells": [
  {
   "attachments": {},
   "cell_type": "markdown",
   "metadata": {},
   "source": [
    "Paczki wymagane do odpowiedniego działania programu"
   ]
  },
  {
   "cell_type": "code",
   "execution_count": 2,
   "metadata": {},
   "outputs": [
    {
     "name": "stderr",
     "output_type": "stream",
     "text": [
      "\u001b[32m\u001b[1m   Resolving\u001b[22m\u001b[39m package versions...\n",
      "\u001b[32m\u001b[1m  No Changes\u001b[22m\u001b[39m to `~/.julia/environments/v1.8/Project.toml`\n",
      "\u001b[32m\u001b[1m  No Changes\u001b[22m\u001b[39m to `~/.julia/environments/v1.8/Manifest.toml`\n"
     ]
    }
   ],
   "source": [
    "import Pkg \n",
    "Pkg.add(\"Distributions\")\n",
    "using Distributions\n",
    "using Printf"
   ]
  },
  {
   "attachments": {},
   "cell_type": "markdown",
   "metadata": {},
   "source": [
    "Rozważane funkcje"
   ]
  },
  {
   "cell_type": "code",
   "execution_count": 3,
   "metadata": {},
   "outputs": [
    {
     "data": {
      "text/plain": [
       "sinus (generic function with 1 method)"
      ]
     },
     "execution_count": 3,
     "metadata": {},
     "output_type": "execute_result"
    }
   ],
   "source": [
    "poly(x) = 2x^3 - x^2 + 3x - 7\n",
    "runge(x) = 1/(1+25x^2)\n",
    "sinus(x) = sin(x)"
   ]
  },
  {
   "attachments": {},
   "cell_type": "markdown",
   "metadata": {},
   "source": [
    "Funkcja wyznaczająca ilorazy różnicowe"
   ]
  },
  {
   "cell_type": "code",
   "execution_count": 4,
   "metadata": {},
   "outputs": [
    {
     "data": {
      "text/plain": [
       "quotients (generic function with 1 method)"
      ]
     },
     "execution_count": 4,
     "metadata": {},
     "output_type": "execute_result"
    }
   ],
   "source": [
    "# vs - wartości funkcji w punktach z xs\n",
    "function quotients(vs :: Vector{<:Real}, xs :: Vector{<:Real})\n",
    "    n = length(xs)\n",
    "    b = zeros(n)\n",
    "    for k in 1:n\n",
    "        b[k] = vs[k]\n",
    "    end\n",
    "    for j in 2:n\n",
    "        for k in reverse(j:n)\n",
    "            b[k] = (b[k] - b[k-1])/(xs[k] - xs[k-j+1]) \n",
    "        end\n",
    "    end\n",
    "    return b\n",
    "end"
   ]
  },
  {
   "attachments": {},
   "cell_type": "markdown",
   "metadata": {},
   "source": [
    "Funkcje mnożące i dodające wielomiany reprezentowane jako ciąg współczynników (zaczynając od najmniejszej potęgi). Funkcje\n",
    "przydają się przy wyznaczaniu postaci potęgowej wielomianu interpolacyjnego "
   ]
  },
  {
   "cell_type": "code",
   "execution_count": 5,
   "metadata": {},
   "outputs": [
    {
     "data": {
      "text/plain": [
       "poly_add (generic function with 1 method)"
      ]
     },
     "execution_count": 5,
     "metadata": {},
     "output_type": "execute_result"
    }
   ],
   "source": [
    "# xs, ys - mnożone wielomiany\n",
    "function poly_mult(xs :: Vector{<:Real}, ys :: Vector{<:Real})\n",
    "    n = length(xs) + length(ys) - 1\n",
    "    ws = zeros(n)\n",
    "    for i in 1:length(xs)\n",
    "        for j in 1:length(ys)\n",
    "            ws[i+j-1] = ws[i+j-1] + xs[i] * ys[j]\n",
    "        end\n",
    "    end\n",
    "    return ws \n",
    "end\n",
    "\n",
    "# xs, ys - dodawane wielomiany\n",
    "function poly_add(xs :: Vector{<:Real}, ys :: Vector{<:Real})\n",
    "    n = max(length(xs), length(ys))\n",
    "    ws = zeros(n)\n",
    "    for i in 1:n \n",
    "        if i > length(xs)\n",
    "            ws[i] = ys[i]\n",
    "        elseif i > length(ys)\n",
    "            ws[i] = xs[i]\n",
    "        else\n",
    "            ws[i] = xs[i] + ys[i]\n",
    "        end \n",
    "    end\n",
    "    while ws[end] == 0; pop!(ws); end\n",
    "    return ws\n",
    "end"
   ]
  },
  {
   "attachments": {},
   "cell_type": "markdown",
   "metadata": {},
   "source": [
    "Funkcja wyznaczająca postać Newtona wielomianu interpolacyjnego"
   ]
  },
  {
   "cell_type": "code",
   "execution_count": 6,
   "metadata": {},
   "outputs": [
    {
     "data": {
      "text/plain": [
       "newton_interpolate (generic function with 1 method)"
      ]
     },
     "execution_count": 6,
     "metadata": {},
     "output_type": "execute_result"
    }
   ],
   "source": [
    "# xs, vs - punkty węzłowe wraz z ich wartościami\n",
    "function newton_interpolate(vs :: Vector{<:Real}, xs :: Vector{<:Real})\n",
    "    n = length(xs)\n",
    "    ws = zeros(n)\n",
    "    b = quotients(vs, xs)\n",
    "    ws[1] = b[1]\n",
    "    V = [Vector{Float64}(undef, n) for _ in 1:n]\n",
    "    V[1] = [1]\n",
    "    for k in 2:n \n",
    "        V[k] = poly_mult(V[k-1], [-xs[k-1], 1])\n",
    "        ws = poly_add(ws, b[k] * V[k])\n",
    "    end\n",
    "    while ws[end] == 0; pop!(ws); end \n",
    "    return ws\n",
    "end"
   ]
  },
  {
   "attachments": {},
   "cell_type": "markdown",
   "metadata": {},
   "source": [
    "Schemat Hornera obliczania wartości wielomianu w punkcie"
   ]
  },
  {
   "cell_type": "code",
   "execution_count": 7,
   "metadata": {},
   "outputs": [
    {
     "data": {
      "text/plain": [
       "horner (generic function with 1 method)"
      ]
     },
     "execution_count": 7,
     "metadata": {},
     "output_type": "execute_result"
    }
   ],
   "source": [
    "# xs - współczynniki wielomianu uporządkowane od najmniejszej potęgi\n",
    "# x  - punkt dla którego liczymy wartość wielomianu\n",
    "function horner(xs :: Vector{<:Real}, x)\n",
    "    n = length(xs)\n",
    "    b = xs[n]\n",
    "    for k in reverse(1:(n-1))\n",
    "        b = xs[k] + x * b\n",
    "    end\n",
    "    return b\n",
    "end"
   ]
  },
  {
   "attachments": {},
   "cell_type": "markdown",
   "metadata": {},
   "source": [
    "Algorytm obliczający całkę oznaczoną z wielomianu"
   ]
  },
  {
   "cell_type": "code",
   "execution_count": 8,
   "metadata": {},
   "outputs": [
    {
     "data": {
      "text/plain": [
       "poly_integrate (generic function with 1 method)"
      ]
     },
     "execution_count": 8,
     "metadata": {},
     "output_type": "execute_result"
    }
   ],
   "source": [
    "# xs     - współczynniki wielomianu uporządkowane od najmniejszej potęgi\n",
    "# [a, b] - granice całkowania (b > a)\n",
    "function poly_integrate(xs :: Vector{<:Real}, a, b)\n",
    "    n = length(xs)\n",
    "    ws = zeros(n+1)\n",
    "    for k in 1:n \n",
    "        ws[k+1] = xs[k] / k\n",
    "    end\n",
    "    return horner(ws, b) - horner(ws, a)  \n",
    "end"
   ]
  },
  {
   "attachments": {},
   "cell_type": "markdown",
   "metadata": {},
   "source": [
    "Funkcje używane do generowania punktów i wartości $f(x)$ w tych punktach"
   ]
  },
  {
   "cell_type": "code",
   "execution_count": 9,
   "metadata": {},
   "outputs": [
    {
     "data": {
      "text/plain": [
       "generate_values (generic function with 1 method)"
      ]
     },
     "execution_count": 9,
     "metadata": {},
     "output_type": "execute_result"
    }
   ],
   "source": [
    "function generate_points(a, b, n)\n",
    "    xs = zeros(n)\n",
    "    xs[1] = a; xs[n] = b;\n",
    "    h = (b - a)/n\n",
    "    for k in 1:(n-2)\n",
    "        l = a + k*h; r = a + (k+1)*h \n",
    "        xs[k+1] = rand(Uniform(l, r))\n",
    "    end \n",
    "    return xs\n",
    "end\n",
    "\n",
    "function generate_values(xs, f :: Function)\n",
    "    n = length(xs)\n",
    "    vs = zeros(n)\n",
    "    for i in 1:n \n",
    "        x = xs[i]\n",
    "        vs[i] = f(x)\n",
    "    end\n",
    "    return vs \n",
    "end"
   ]
  },
  {
   "attachments": {},
   "cell_type": "markdown",
   "metadata": {},
   "source": [
    "Pretty-printer dla wielomianów reprezentowanych jako listy współczynników"
   ]
  },
  {
   "cell_type": "code",
   "execution_count": 10,
   "metadata": {},
   "outputs": [
    {
     "data": {
      "text/plain": [
       "print_poly (generic function with 1 method)"
      ]
     },
     "execution_count": 10,
     "metadata": {},
     "output_type": "execute_result"
    }
   ],
   "source": [
    "function print_poly(xs)\n",
    "    n = length(xs)\n",
    "    @printf(\"%0.4f\", xs[1])\n",
    "    for i in 2:n \n",
    "        if xs[i] >= 0; @printf(\"+\"); end\n",
    "        @printf(\"%0.4f*x^%d\", xs[i], i-1)\n",
    "    end\n",
    "    @printf(\"\\n\")\n",
    "end"
   ]
  },
  {
   "attachments": {},
   "cell_type": "markdown",
   "metadata": {},
   "source": [
    "Algorytm obliczania wartości całki oznaczonej przy użyciu metody trapezów"
   ]
  },
  {
   "cell_type": "code",
   "execution_count": 11,
   "metadata": {},
   "outputs": [
    {
     "data": {
      "text/plain": [
       "trap (generic function with 1 method)"
      ]
     },
     "execution_count": 11,
     "metadata": {},
     "output_type": "execute_result"
    }
   ],
   "source": [
    "# Pole trapezu\n",
    "function P(x1, x2, v1, v2)\n",
    "    p = (abs(v1) + abs(v2))*(x2 - x1)/2\n",
    "    if v1 < 0 || v2 < 0; return -p; else return p; end\n",
    "end\n",
    "\n",
    "# Metoda trapezów\n",
    "function trap(xs, vs) \n",
    "    res = zero(Float64)\n",
    "    n = length(xs)\n",
    "    for k in 1:(n-1) \n",
    "        x1 = xs[k]; x2 = xs[k+1]\n",
    "        v1 = vs[k]; v2 = vs[k+1]\n",
    "        if v1*v2 < 0\n",
    "            d = x2 - x1 \n",
    "            e = d * abs(v1)/(abs(v1) + abs(v2))\n",
    "            res = res + P(x1, x1+e, v1, 0) + P(x1+e, x2, 0, v2)\n",
    "        else \n",
    "            res = res + P(x1, x2, v1, v2)\n",
    "        end\n",
    "    end\n",
    "    return res\n",
    "end"
   ]
  }
 ],
 "metadata": {
  "kernelspec": {
   "display_name": "Julia 1.8.2",
   "language": "julia",
   "name": "julia-1.8"
  },
  "language_info": {
   "file_extension": ".jl",
   "mimetype": "application/julia",
   "name": "julia",
   "version": "1.8.4"
  },
  "orig_nbformat": 4
 },
 "nbformat": 4,
 "nbformat_minor": 2
}
