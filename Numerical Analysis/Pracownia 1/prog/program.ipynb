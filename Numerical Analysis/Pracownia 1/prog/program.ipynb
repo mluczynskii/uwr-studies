{
 "cells": [
  {
   "cell_type": "markdown",
   "metadata": {},
   "source": [
    "$e$ - mimośród orbity $(0 \\leq e \\leq 1)$ <br />\n",
    "$T$ - okres orbitalny $(T \\geq 0)$ <br />\n",
    "$t$ - czas, dla którego szukamy rozwiązania rówania Keplera $(t \\leq \\frac{T}{2})$ <br />\n",
    "$M$ - anomalia średnia wyrażona wzorem $(M = \\frac{2\\pi t}{T})$ <br />\n",
    "\n",
    "Chcąc wykonać testy dla innych danych należy je w tym miejscu zmodyfikować\n"
   ]
  },
  {
   "cell_type": "code",
   "execution_count": 15,
   "metadata": {},
   "outputs": [
    {
     "data": {
      "text/plain": [
       "0.17202124302995261"
      ]
     },
     "execution_count": 15,
     "metadata": {},
     "output_type": "execute_result"
    }
   ],
   "source": [
    "e = 0.0167086\n",
    "T = 365.25636\n",
    "t = 10\n",
    "\n",
    "M = 2*pi*t/T"
   ]
  },
  {
   "cell_type": "markdown",
   "metadata": {},
   "source": [
    "### Implementacje wszystkich metod użytych w sprawozdaniu (moduł $\\texttt{methods.jl}$)"
   ]
  },
  {
   "cell_type": "markdown",
   "metadata": {},
   "source": [
    "1. Implementacja metody bisekcji <br />\n",
    "Argumenty: <br />\n",
    "$f$ - jednoargumentowa funkcja, ciągła na przedziale $[l,r]$, dla której szukane jest miejsce zerowe <br />\n",
    "$l, r$ - początkowe krańce przedziału, w którym szukany jest pierwiastek. Aby metoda bisekcji działała poprawnie wymagane jest\n",
    "aby $f(l)f(r) < 0$ <br /> <br />\n",
    "Opcjonalne argumenty: <br />\n",
    "$\\varepsilon$ - określa upragniony poziom precyzji wyniku po zakończeniu działania algorytmu <br />\n",
    "$maxiter$ - określa maksymalną ilość iteracji, po której algorytm ma się zatrzymać <br />\n",
    "$print$ - precyzuje, czy algorytm ma wyświetlać wyliczone po drodze kolejne przybliżenia <br />"
   ]
  },
  {
   "cell_type": "code",
   "execution_count": 16,
   "metadata": {},
   "outputs": [
    {
     "data": {
      "text/plain": [
       "bisection (generic function with 1 method)"
      ]
     },
     "execution_count": 16,
     "metadata": {},
     "output_type": "execute_result"
    }
   ],
   "source": [
    "using Printf\n",
    "function bisection(f::Function, l, r; 𝞮=1.0e-6, maxiter=16, print=false)\n",
    "    iter = 0;\n",
    "    𝞮a = one(Float64)\n",
    "    m_old = zero(Float64)\n",
    "    lval, rval = f(l), f(r)\n",
    "    while true\n",
    "        iter = iter + 1\n",
    "        m = (l + r)/2\n",
    "        mval = f(m)\n",
    "        if m != 0; 𝞮a = abs(m - m_old)/abs(m) end\n",
    "        if print; @printf(\"Iter: %d, x = %0.14f, 𝞮a = %0.2e, f(x) = %0.2e\\n\", iter, m, 𝞮a, f(m)); end\n",
    "        check = lval * mval\n",
    "        if check < 0\n",
    "            r, rval = m, mval \n",
    "        else \n",
    "            l, lval = m, mval \n",
    "        end\n",
    "        if 𝞮a <= 𝞮 || iter >= maxiter\n",
    "            return m, iter\n",
    "        end\n",
    "        m_old = m\n",
    "    end\n",
    "end"
   ]
  },
  {
   "cell_type": "code",
   "execution_count": 17,
   "metadata": {},
   "outputs": [
    {
     "name": "stdout",
     "output_type": "stream",
     "text": [
      "Iter: 1, x = 0.18037554302995, 𝞮a = 1.00e+00, f(x) = 5.36e-03\n",
      "Iter: 2, x = 0.17619839302995, 𝞮a = 2.37e-02, f(x) = 1.25e-03\n",
      "Iter: 3, x = 0.17410981802995, 𝞮a = 1.20e-02, f(x) = -8.06e-04\n",
      "Iter: 4, x = 0.17515410552995, 𝞮a = 5.96e-03, f(x) = 2.21e-04\n",
      "Iter: 5, x = 0.17463196177995, 𝞮a = 2.99e-03, f(x) = -2.92e-04\n",
      "Iter: 6, x = 0.17489303365495, 𝞮a = 1.49e-03, f(x) = -3.56e-05\n",
      "Iter: 7, x = 0.17502356959245, 𝞮a = 7.46e-04, f(x) = 9.28e-05\n",
      "Iter: 8, x = 0.17495830162370, 𝞮a = 3.73e-04, f(x) = 2.86e-05\n",
      "Iter: 9, x = 0.17492566763933, 𝞮a = 1.87e-04, f(x) = -3.46e-06\n",
      "Iter: 10, x = 0.17494198463152, 𝞮a = 9.33e-05, f(x) = 1.26e-05\n",
      "Iter: 11, x = 0.17493382613542, 𝞮a = 4.66e-05, f(x) = 4.57e-06\n",
      "Iter: 12, x = 0.17492974688737, 𝞮a = 2.33e-05, f(x) = 5.57e-07\n",
      "Iter: 13, x = 0.17492770726335, 𝞮a = 1.17e-05, f(x) = -1.45e-06\n",
      "Iter: 14, x = 0.17492872707536, 𝞮a = 5.83e-06, f(x) = -4.46e-07\n",
      "Iter: 15, x = 0.17492923698137, 𝞮a = 2.91e-06, f(x) = 5.50e-08\n",
      "Iter: 16, x = 0.17492898202837, 𝞮a = 1.46e-06, f(x) = -1.96e-07\n",
      "Iter: 17, x = 0.17492910950487, 𝞮a = 7.29e-07, f(x) = -7.04e-08\n",
      "Iter: 18, x = 0.17492917324312, 𝞮a = 3.64e-07, f(x) = -7.67e-09\n",
      "Iter: 19, x = 0.17492920511224, 𝞮a = 1.82e-07, f(x) = 2.37e-08\n",
      "Iter: 20, x = 0.17492918917768, 𝞮a = 9.11e-08, f(x) = 8.01e-09\n",
      "Iter: 21, x = 0.17492918121040, 𝞮a = 4.55e-08, f(x) = 1.70e-10\n",
      "Iter: 22, x = 0.17492917722676, 𝞮a = 2.28e-08, f(x) = -3.75e-09\n",
      "Iter: 23, x = 0.17492917921858, 𝞮a = 1.14e-08, f(x) = -1.79e-09\n",
      "Iter: 24, x = 0.17492918021449, 𝞮a = 5.69e-09, f(x) = -8.10e-10\n",
      "Iter: 25, x = 0.17492918071244, 𝞮a = 2.85e-09, f(x) = -3.20e-10\n",
      "Iter: 26, x = 0.17492918096142, 𝞮a = 1.42e-09, f(x) = -7.49e-11\n",
      "Iter: 27, x = 0.17492918108591, 𝞮a = 7.12e-10, f(x) = 4.75e-11\n",
      "Iter: 28, x = 0.17492918102367, 𝞮a = 3.56e-10, f(x) = -1.37e-11\n",
      "Iter: 29, x = 0.17492918105479, 𝞮a = 1.78e-10, f(x) = 1.69e-11\n",
      "Iter: 30, x = 0.17492918103923, 𝞮a = 8.90e-11, f(x) = 1.59e-12\n",
      "Iter: 31, x = 0.17492918103145, 𝞮a = 4.45e-11, f(x) = -6.06e-12\n",
      "Iter: 32, x = 0.17492918103534, 𝞮a = 2.22e-11, f(x) = -2.23e-12\n",
      "Iter: 33, x = 0.17492918103728, 𝞮a = 1.11e-11, f(x) = -3.21e-13\n"
     ]
    },
    {
     "data": {
      "text/plain": [
       "(0.17492918103728208, 33)"
      ]
     },
     "execution_count": 17,
     "metadata": {},
     "output_type": "execute_result"
    }
   ],
   "source": [
    "f(x) = x - e*sin(x) - M\n",
    "l, r = M, M + e \n",
    "bisection(f, l, r; 𝞮=1.0e-14, maxiter=33, print=true)"
   ]
  },
  {
   "cell_type": "markdown",
   "metadata": {},
   "source": [
    "2. Implementacja metody iteracyjnej $x_{n+1} = \\varphi(x_n) = e\\sin x_n + M$ <br />\n",
    "Argumenty: <br />\n",
    "$x$ - Przybliżenie początkowe <br />\n",
    "$e, M$ - mimośród i anomalia średnia <br /> <br />\n",
    "Argumenty opcjonalne takie same jak w przypadku metody bisekcji"
   ]
  },
  {
   "cell_type": "code",
   "execution_count": 18,
   "metadata": {},
   "outputs": [
    {
     "data": {
      "text/plain": [
       "iterative (generic function with 1 method)"
      ]
     },
     "execution_count": 18,
     "metadata": {},
     "output_type": "execute_result"
    }
   ],
   "source": [
    "function iterative(x, e, M; 𝞮=1.0e-6, maxiter=16, print=false)\n",
    "    iter = 0;\n",
    "    f(x) = x - e*sin(x) - M\n",
    "    phi(xn) = e*sin(xn) + M\n",
    "    𝞮a = one(x)\n",
    "    while true\n",
    "        iter = iter + 1\n",
    "        x_old = x\n",
    "        x = phi(x)\n",
    "        if x != 0; 𝞮a = abs(x - x_old)/abs(x); end\n",
    "        if print; @printf(\"Iter: %d, x = %0.18f, 𝞮a = %0.2e, f(x) = %0.2e\\n\", iter, x, 𝞮a, f(x)); end\n",
    "        if 𝞮a <= 𝞮 || iter >= maxiter\n",
    "            break\n",
    "        end\n",
    "    end\n",
    "    return x, iter\n",
    "end"
   ]
  },
  {
   "cell_type": "code",
   "execution_count": 19,
   "metadata": {},
   "outputs": [
    {
     "name": "stdout",
     "output_type": "stream",
     "text": [
      "Iter: 1, x = 0.172021243029952614, 𝞮a = 1.00e+00, f(x) = -2.86e-03\n",
      "Iter: 2, x = 0.174881322738575096, 𝞮a = 1.64e-02, f(x) = -4.71e-05\n",
      "Iter: 3, x = 0.174928393592594794, 𝞮a = 2.69e-04, f(x) = -7.74e-07\n",
      "Iter: 4, x = 0.174929168081295883, 𝞮a = 4.43e-06, f(x) = -1.27e-08\n",
      "Iter: 5, x = 0.174929180824430125, 𝞮a = 7.28e-08, f(x) = -2.10e-10\n",
      "Iter: 6, x = 0.174929181034100656, 𝞮a = 1.20e-09, f(x) = -3.45e-12\n",
      "Iter: 7, x = 0.174929181037550507, 𝞮a = 1.97e-11, f(x) = -5.68e-14\n",
      "Iter: 8, x = 0.174929181037607268, 𝞮a = 3.24e-13, f(x) = -9.16e-16\n",
      "Iter: 9, x = 0.174929181037608183, 𝞮a = 5.24e-15, f(x) = -2.78e-17\n",
      "Iter: 10, x = 0.174929181037608211, 𝞮a = 1.59e-16, f(x) = 0.00e+00\n",
      "Iter: 11, x = 0.174929181037608211, 𝞮a = 0.00e+00, f(x) = 0.00e+00\n"
     ]
    },
    {
     "data": {
      "text/plain": [
       "(0.1749291810376082, 11)"
      ]
     },
     "execution_count": 19,
     "metadata": {},
     "output_type": "execute_result"
    }
   ],
   "source": [
    "x0 = 0\n",
    "iterative(0, e, M; 𝞮=1.0e-16, maxiter=14, print=true)"
   ]
  },
  {
   "cell_type": "markdown",
   "metadata": {},
   "source": [
    "3. Implementacja metody Newtona <br />\n",
    "Argumenty: <br />\n",
    "$f$ - funkcja, dla której szukamy miejsca zerowego <br />\n",
    "$\\delta f$ - pochodna funkcji $f$ <br />\n",
    "$x$ - przybliżenie początkowe <br /> <br />\n",
    "Argumenty opcjonalne ponownie identyczne jak w przypadku dwóch poprzednich funkcji\n"
   ]
  },
  {
   "cell_type": "code",
   "execution_count": 20,
   "metadata": {},
   "outputs": [
    {
     "data": {
      "text/plain": [
       "newton (generic function with 1 method)"
      ]
     },
     "execution_count": 20,
     "metadata": {},
     "output_type": "execute_result"
    }
   ],
   "source": [
    "function newton(f::Function, 𝜹f::Function, x; 𝞮=1.0e-6, maxiter=16, print=false)\n",
    "    iter = 0\n",
    "    xn = x\n",
    "    𝞮a = one(xn)\n",
    "    while true\n",
    "        iter = iter + 1\n",
    "        xnold = xn\n",
    "        fval, 𝜹fval = f(xn), 𝜹f(xn)\n",
    "        xn = xnold - fval/𝜹fval\n",
    "        if xn != 0.0; 𝞮a = abs((xn - xnold)/xn); end;\n",
    "        if print; @printf(\"iter: %d : xn=%.25f 𝞮a=%0.2e f(x)=%0.2e\\n\", iter, xn, 𝞮a, f(xn)); end;\n",
    "        if 𝞮a <= 𝞮 || iter >= maxiter\n",
    "            break\n",
    "        end\n",
    "    end\n",
    "    return xn, iter\n",
    "end"
   ]
  },
  {
   "cell_type": "code",
   "execution_count": 21,
   "metadata": {},
   "outputs": [
    {
     "name": "stdout",
     "output_type": "stream",
     "text": [
      "iter: 1 : xn=0.1749291810376082112465923 𝞮a=3.46e-07 f(x)=0.00e+00\n",
      "iter: 2 : xn=0.1749291810376082112465923 𝞮a=0.00e+00 f(x)=0.00e+00\n"
     ]
    },
    {
     "data": {
      "text/plain": [
       "(0.1749291810376082, 2)"
      ]
     },
     "execution_count": 21,
     "metadata": {},
     "output_type": "execute_result"
    }
   ],
   "source": [
    "x0 = M + e*sin(M)/(1-sin(M+e)+sin(M))\n",
    "df(x) = 1 - e*cos(x)\n",
    "newton(f, df, x0; 𝞮=1.0e-20, maxiter=5, print=true)"
   ]
  },
  {
   "cell_type": "markdown",
   "metadata": {},
   "source": [
    "### Implementacja funkcji generującej dane do rysunku orbit <br />\n",
    "$E$, $A$ - wektory zawierające wartości opisujące odpowiednio mimośród orbity i półoś wielką (w km) dla obiektów wymienionych w wektorze $names$ <br />"
   ]
  },
  {
   "cell_type": "code",
   "execution_count": 22,
   "metadata": {},
   "outputs": [
    {
     "data": {
      "text/plain": [
       "1-element Vector{Int64}:\n",
       " 149598023"
      ]
     },
     "execution_count": 22,
     "metadata": {},
     "output_type": "execute_result"
    }
   ],
   "source": [
    "names = [\"Ziemia\"]\n",
    "E = [0.0167086]\n",
    "A = [149598023]"
   ]
  },
  {
   "cell_type": "markdown",
   "metadata": {},
   "source": [
    "Funkcja solve_for_M znajduje rozwiązanie $x$ dla zadanych $M$ oraz $e$, korzystając z metody Newtona"
   ]
  },
  {
   "cell_type": "code",
   "execution_count": 23,
   "metadata": {},
   "outputs": [
    {
     "data": {
      "text/plain": [
       "solve_for_M (generic function with 1 method)"
      ]
     },
     "execution_count": 23,
     "metadata": {},
     "output_type": "execute_result"
    }
   ],
   "source": [
    "function solve_for_M(M, e)\n",
    "    f(x) = x - e*sin(x) - M \n",
    "    df(x) = 1 - e*cos(x)\n",
    "    x0 = M + e*sin(M)/(1-sin(M+e)+sin(M))\n",
    "    x, iter = newton(f, df, x0; 𝞮=1.0e-16, maxiter=100, print=false)\n",
    "    #x, iter = iterative(x0, e, M; 𝞮=1.0e-16, maxiter=100, print=false)\n",
    "    #x, iter = bisection(f, M, M + e; 𝞮=1.0e-16, maxiter=100, print=false)\n",
    "    return x, iter\n",
    "end"
   ]
  },
  {
   "cell_type": "markdown",
   "metadata": {},
   "source": [
    "get_data liczy współrzędne obiektu na jego orbicie dla kolejnych $M \\in [0,2\\pi]$ i zapisuje te \n",
    "współrzędne do pliku z odpowiednią nazwą"
   ]
  },
  {
   "cell_type": "code",
   "execution_count": 24,
   "metadata": {},
   "outputs": [
    {
     "data": {
      "text/plain": [
       "get_data (generic function with 1 method)"
      ]
     },
     "execution_count": 24,
     "metadata": {},
     "output_type": "execute_result"
    }
   ],
   "source": [
    "# Funkcja licząca współrzędne na orbicie\n",
    "function get_data(filename, e, a)\n",
    "    file = open(filename, \"w\")\n",
    "    for M in 0:0.01:(2*pi)\n",
    "        x = solve_for_M(M, e)[1]\n",
    "        l = a * (cos(x) - e)\n",
    "        r = a * sqrt(1 - e^2) * sin(x)\n",
    "        line = string(l) * \" \" * string(r) * \"\\n\"\n",
    "        write(file, line)\n",
    "    end\n",
    "    close(file)\n",
    "end"
   ]
  },
  {
   "cell_type": "markdown",
   "metadata": {},
   "source": [
    "Na koniec kod wyliczający średnią ilość iteracji potrzebnych do otrzymania wyniku dla różnych $e$"
   ]
  },
  {
   "cell_type": "code",
   "execution_count": 25,
   "metadata": {},
   "outputs": [
    {
     "name": "stdout",
     "output_type": "stream",
     "text": [
      "Number of iterations needed: 24.650794\n"
     ]
    }
   ],
   "source": [
    "e = 0.9\n",
    "num_of_iter = 0\n",
    "num_of_tests = 0\n",
    "for M in 0:0.1:(2*pi)\n",
    "    iter = solve_for_M(M, e)[2]\n",
    "    global num_of_iter = num_of_iter + iter\n",
    "    global num_of_tests = num_of_tests + 1\n",
    "end\n",
    "@printf(\"Number of iterations needed: %f\\n\", num_of_iter/num_of_tests)"
   ]
  }
 ],
 "metadata": {
  "kernelspec": {
   "display_name": "Julia 1.8.2",
   "language": "julia",
   "name": "julia-1.8"
  },
  "language_info": {
   "file_extension": ".jl",
   "mimetype": "application/julia",
   "name": "julia",
   "version": "1.8.2"
  },
  "orig_nbformat": 4
 },
 "nbformat": 4,
 "nbformat_minor": 2
}
